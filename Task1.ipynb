{
 "cells": [
  {
   "cell_type": "code",
   "execution_count": 5,
   "source": [
    "import cv2\r\n",
    "\r\n",
    "img = cv2.imread(\"Task1_image.png\")\r\n",
    "imgGray = cv2.cvtColor(img, cv2.COLOR_BGR2GRAY)\r\n",
    "imgCanny = cv2.Canny(imgGray, 100, 200)\r\n",
    "\r\n",
    "contours, hierarchy = cv2.findContours(imgCanny, cv2.RETR_EXTERNAL, cv2.CHAIN_APPROX_NONE)\r\n",
    "sorted_contours = sorted(contours, key = cv2.contourArea, reverse = True)\r\n",
    "cv2.drawContours(img, sorted_contours, 0, (255,0,0),10)\r\n",
    "\r\n",
    "cv2.imshow(\"Largest Image\", img)\r\n",
    "cv2.waitKey(0)"
   ],
   "outputs": [
    {
     "output_type": "execute_result",
     "data": {
      "text/plain": [
       "-1"
      ]
     },
     "metadata": {},
     "execution_count": 5
    }
   ],
   "metadata": {}
  }
 ],
 "metadata": {
  "orig_nbformat": 4,
  "language_info": {
   "name": "python",
   "version": "3.9.5",
   "mimetype": "text/x-python",
   "codemirror_mode": {
    "name": "ipython",
    "version": 3
   },
   "pygments_lexer": "ipython3",
   "nbconvert_exporter": "python",
   "file_extension": ".py"
  },
  "kernelspec": {
   "name": "python3",
   "display_name": "Python 3.9.5 64-bit"
  },
  "interpreter": {
   "hash": "aecdd2903ddeaeea0a5dc9cd7b5135a9a3ea58bf457554d2b10e3c17c1146ec2"
  }
 },
 "nbformat": 4,
 "nbformat_minor": 2
}